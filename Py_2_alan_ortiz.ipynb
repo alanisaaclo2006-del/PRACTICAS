{
  "nbformat": 4,
  "nbformat_minor": 0,
  "metadata": {
    "colab": {
      "provenance": [],
      "authorship_tag": "ABX9TyOXvSDM3G4aCjz861LR5Sev",
      "include_colab_link": true
    },
    "kernelspec": {
      "name": "python3",
      "display_name": "Python 3"
    },
    "language_info": {
      "name": "python"
    }
  },
  "cells": [
    {
      "cell_type": "markdown",
      "metadata": {
        "id": "view-in-github",
        "colab_type": "text"
      },
      "source": [
        "<a href=\"https://colab.research.google.com/github/alanisaaclo2006-del/PRACTICAS/blob/main/Py_2_alan_ortiz.ipynb\" target=\"_parent\"><img src=\"https://colab.research.google.com/assets/colab-badge.svg\" alt=\"Open In Colab\"/></a>"
      ]
    },
    {
      "cell_type": "code",
      "execution_count": 5,
      "metadata": {
        "id": "Z1z2OKEVo4EA",
        "colab": {
          "base_uri": "https://localhost:8080/"
        },
        "outputId": "325061ca-c59d-4b2e-a881-3d516efd29a3"
      },
      "outputs": [
        {
          "output_type": "execute_result",
          "data": {
            "text/plain": [
              "str"
            ]
          },
          "metadata": {},
          "execution_count": 5
        }
      ],
      "source": [
        "#Parte 1. Tipos de datos\n",
        "\n",
        "\t#Define tres variables:\n",
        "\t\t#- Un número entero (int) con tu edad.\n",
        "\t\t#- Un número decimal (float) con tu altura en metros.\n",
        "#- Una cadena de texto (str) con tu nombre completo.\n",
        "Edad =int(19)               # Un número entero (int) con tu edad\n",
        "Altura =float(1.75)           # Un número decimal (float) con tu altura en metros\n",
        "nombre = str(\"alan ortiz\")  # Una cadena de texto (str) con tu nombre\n",
        "\n",
        "\n",
        "#Pregunta: ¿qué función en Python permite conocer el tipo de dato de una variable? Úsala para mostrar los resultados.\n",
        "\n",
        "type(Edad)\n",
        "type(Altura)\n",
        "type(nombre)"
      ]
    },
    {
      "cell_type": "code",
      "source": [
        "#parte 2 operaciones aritmeticas\n",
        "\n",
        "# Precios de los productos\n",
        "producto1 = 125.50\n",
        "producto2 = 89.99\n",
        "producto3 = 39.75\n",
        "\n",
        "# Total de la compra\n",
        "total = producto1 + producto2 + producto3\n",
        "\n",
        "# Descuento del 15%\n",
        "descuento = total * 0.15\n",
        "precio_con_descuento = total - descuento\n",
        "\n",
        "# IVA del 16%\n",
        "iva = precio_con_descuento * 0.16\n",
        "\n",
        "# Total final\n",
        "total_final = precio_con_descuento + iva\n",
        "\n",
        "print(\"Total sin descuento:\", total)\n",
        "print(\"Descuento aplicado:\", descuento)\n",
        "print(\"Precio con descuento:\", precio_con_descuento)\n",
        "print(\"IVA (16%):\", iva)\n",
        "print(\"Total final a pagar:\", total_final)\n",
        "\n",
        "#¿Qué operador usarías para obtener el residuo de dividir 125 entre 12?\n",
        "# Operador de residuo\n",
        "residuo = 125 % 12\n",
        "print(\"Residuo de 125 ÷ 12:\", residuo)"
      ],
      "metadata": {
        "colab": {
          "base_uri": "https://localhost:8080/"
        },
        "id": "4KQe-ChU5yfh",
        "outputId": "be79912c-38c8-4b17-b266-1329a7207c1f"
      },
      "execution_count": 6,
      "outputs": [
        {
          "output_type": "stream",
          "name": "stdout",
          "text": [
            "Total sin descuento: 255.24\n",
            "Descuento aplicado: 38.286\n",
            "Precio con descuento: 216.954\n",
            "IVA (16%): 34.71264\n",
            "Total final a pagar: 251.66664\n",
            "Residuo de 125 ÷ 12: 5\n"
          ]
        }
      ]
    },
    {
      "cell_type": "code",
      "source": [
        "#parte 3\n",
        "\n",
        "print(\"¿Edad mayor a 18?\", Edad > 18)\n",
        "print(\"¿Producto más caro > 100?\", max(producto1, producto2, producto3) > 100)\n",
        "print(\"¿Total final <= 200?\", total_final <= 200)\n"
      ],
      "metadata": {
        "colab": {
          "base_uri": "https://localhost:8080/"
        },
        "id": "0xAnQEXy57nD",
        "outputId": "e0c6e2e8-0fff-46fa-a084-d5facf208b54"
      },
      "execution_count": 7,
      "outputs": [
        {
          "output_type": "stream",
          "name": "stdout",
          "text": [
            "¿Edad mayor a 18? True\n",
            "¿Producto más caro > 100? True\n",
            "¿Total final <= 200? False\n"
          ]
        }
      ]
    },
    {
      "cell_type": "code",
      "source": [
        "#parte 4\n",
        "\n",
        "# Variables booleanas\n",
        "pago_tarjeta = True\n",
        "tiene_descuento = False\n",
        "\n",
        "print(\"¿Pagó con tarjeta Y tiene descuento?\", pago_tarjeta and tiene_descuento)\n",
        "print(\"¿Pagó con tarjeta O tiene descuento?\", pago_tarjeta or tiene_descuento)\n",
        "print(\"Negación de 'tiene_descuento':\", not tiene_descuento)"
      ],
      "metadata": {
        "colab": {
          "base_uri": "https://localhost:8080/"
        },
        "id": "sYrWSkMY6B6S",
        "outputId": "693de455-6aa6-4b20-959d-225a847c5deb"
      },
      "execution_count": 8,
      "outputs": [
        {
          "output_type": "stream",
          "name": "stdout",
          "text": [
            "¿Pagó con tarjeta Y tiene descuento? False\n",
            "¿Pagó con tarjeta O tiene descuento? True\n",
            "Negación de 'tiene_descuento': True\n"
          ]
        }
      ]
    },
    {
      "cell_type": "code",
      "source": [
        "#parte 5\n",
        "\n",
        "# Solicita datos al usuario\n",
        "Edad = int(input(\"Ingresa tu edad: \"))\n",
        "Altura = float(input(\"Ingresa tu altura en metros: \"))\n",
        "monto_compra = float(input(\"Ingresa el monto de tu compra: \"))\n",
        "\n",
        "# Mostrar tipos\n",
        "print(\"Tipo de edad:\", type(Edad))\n",
        "print(\"Tipo de altura:\", type(Altura))\n",
        "print(\"Tipo de monto de compra:\", type(monto_compra))\n",
        "\n",
        "# Verificaciones\n",
        "es_mayor_edad = Edad >= 18\n",
        "compra_mayor_500 = monto_compra > 500\n",
        "\n",
        "print(\"¿Es mayor de edad?\", es_mayor_edad)\n",
        "print(\"¿La compra excede los $500?\", compra_mayor_500)\n",
        "print(\"¿Mayor de edad Y compra > $500?\", es_mayor_edad and compra_mayor_500)\n"
      ],
      "metadata": {
        "colab": {
          "base_uri": "https://localhost:8080/"
        },
        "id": "aJoyoUhv6Jti",
        "outputId": "90cdd624-aa70-4a17-fae8-6f09d982ecd7"
      },
      "execution_count": 9,
      "outputs": [
        {
          "output_type": "stream",
          "name": "stdout",
          "text": [
            "Ingresa tu edad: 14\n",
            "Ingresa tu altura en metros: 1.60\n",
            "Ingresa el monto de tu compra: 150\n",
            "Tipo de edad: <class 'int'>\n",
            "Tipo de altura: <class 'float'>\n",
            "Tipo de monto de compra: <class 'float'>\n",
            "¿Es mayor de edad? False\n",
            "¿La compra excede los $500? False\n",
            "¿Mayor de edad Y compra > $500? False\n"
          ]
        }
      ]
    }
  ]
}